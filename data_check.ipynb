{
 "cells": [
  {
   "cell_type": "code",
   "execution_count": 62,
   "metadata": {},
   "outputs": [],
   "source": [
    "import pandas as pd"
   ]
  },
  {
   "cell_type": "code",
   "execution_count": 63,
   "metadata": {},
   "outputs": [],
   "source": [
    "df = pd.read_csv(\"train_data.csv\",header=None,sep='\\t',names=['status','action','reward','done','status-'])"
   ]
  },
  {
   "cell_type": "code",
   "execution_count": 71,
   "metadata": {},
   "outputs": [
    {
     "data": {
      "text/html": [
       "<div>\n",
       "<style>\n",
       "    .dataframe thead tr:only-child th {\n",
       "        text-align: right;\n",
       "    }\n",
       "\n",
       "    .dataframe thead th {\n",
       "        text-align: left;\n",
       "    }\n",
       "\n",
       "    .dataframe tbody tr th {\n",
       "        vertical-align: top;\n",
       "    }\n",
       "</style>\n",
       "<table border=\"1\" class=\"dataframe\">\n",
       "  <thead>\n",
       "    <tr style=\"text-align: right;\">\n",
       "      <th></th>\n",
       "      <th>status</th>\n",
       "      <th>action</th>\n",
       "      <th>reward</th>\n",
       "      <th>done</th>\n",
       "      <th>status-</th>\n",
       "    </tr>\n",
       "  </thead>\n",
       "  <tbody>\n",
       "    <tr>\n",
       "      <th>8239</th>\n",
       "      <td>[[0, 0, 0, 4], [2, 0, 0, 0], [0, 0, 0, 0], [0,...</td>\n",
       "      <td>a</td>\n",
       "      <td>0</td>\n",
       "      <td>False</td>\n",
       "      <td>[[4, 0, 0, 0], [2, 4, 0, 0], [0, 0, 0, 0], [4,...</td>\n",
       "    </tr>\n",
       "  </tbody>\n",
       "</table>\n",
       "</div>"
      ],
      "text/plain": [
       "                                                 status action  reward   done  \\\n",
       "8239  [[0, 0, 0, 4], [2, 0, 0, 0], [0, 0, 0, 0], [0,...      a       0  False   \n",
       "\n",
       "                                                status-  \n",
       "8239  [[4, 0, 0, 0], [2, 4, 0, 0], [0, 0, 0, 0], [4,...  "
      ]
     },
     "execution_count": 71,
     "metadata": {},
     "output_type": "execute_result"
    }
   ],
   "source": [
    "df[df['status'] == str([[0, 0, 0, 4], [2, 0, 0, 0], [0, 0, 0, 0], [0, 0, 0, 4]])]"
   ]
  },
  {
   "cell_type": "code",
   "execution_count": 65,
   "metadata": {},
   "outputs": [
    {
     "data": {
      "text/plain": [
       "False    33431\n",
       "True       387\n",
       "Name: done, dtype: int64"
      ]
     },
     "execution_count": 65,
     "metadata": {},
     "output_type": "execute_result"
    }
   ],
   "source": [
    "df['done'].value_counts()"
   ]
  },
  {
   "cell_type": "code",
   "execution_count": 67,
   "metadata": {},
   "outputs": [
    {
     "data": {
      "text/html": [
       "<div>\n",
       "<style>\n",
       "    .dataframe thead tr:only-child th {\n",
       "        text-align: right;\n",
       "    }\n",
       "\n",
       "    .dataframe thead th {\n",
       "        text-align: left;\n",
       "    }\n",
       "\n",
       "    .dataframe tbody tr th {\n",
       "        vertical-align: top;\n",
       "    }\n",
       "</style>\n",
       "<table border=\"1\" class=\"dataframe\">\n",
       "  <thead>\n",
       "    <tr style=\"text-align: right;\">\n",
       "      <th></th>\n",
       "      <th>reward</th>\n",
       "      <th>done</th>\n",
       "    </tr>\n",
       "    <tr>\n",
       "      <th>action</th>\n",
       "      <th></th>\n",
       "      <th></th>\n",
       "    </tr>\n",
       "  </thead>\n",
       "  <tbody>\n",
       "    <tr>\n",
       "      <th>a</th>\n",
       "      <td>0.152323</td>\n",
       "      <td>0.010375</td>\n",
       "    </tr>\n",
       "    <tr>\n",
       "      <th>d</th>\n",
       "      <td>0.764355</td>\n",
       "      <td>0.010245</td>\n",
       "    </tr>\n",
       "    <tr>\n",
       "      <th>s</th>\n",
       "      <td>-3.674991</td>\n",
       "      <td>0.011138</td>\n",
       "    </tr>\n",
       "    <tr>\n",
       "      <th>w</th>\n",
       "      <td>-3.243076</td>\n",
       "      <td>0.014026</td>\n",
       "    </tr>\n",
       "  </tbody>\n",
       "</table>\n",
       "</div>"
      ],
      "text/plain": [
       "          reward      done\n",
       "action                    \n",
       "a       0.152323  0.010375\n",
       "d       0.764355  0.010245\n",
       "s      -3.674991  0.011138\n",
       "w      -3.243076  0.014026"
      ]
     },
     "execution_count": 67,
     "metadata": {},
     "output_type": "execute_result"
    }
   ],
   "source": [
    "df.groupby(\"action\").mean()"
   ]
  },
  {
   "cell_type": "code",
   "execution_count": 48,
   "metadata": {},
   "outputs": [],
   "source": [
    "import random\n",
    "from GameEnv import Game2048\n",
    "gameEnv = Game2048()"
   ]
  },
  {
   "cell_type": "code",
   "execution_count": 70,
   "metadata": {},
   "outputs": [
    {
     "name": "stdout",
     "output_type": "stream",
     "text": [
      "8\t 2\t 32\t 2\t \n",
      "\n",
      "16\t 8\t 128\t 16\t \n",
      "\n",
      "8\t 16\t -\t 4\t \n",
      "\n",
      "4\t 8\t -\t 2\t \n",
      "\n",
      "a\n",
      "8\t 2\t 32\t 2\t \n",
      "\n",
      "16\t 8\t 128\t 16\t \n",
      "\n",
      "8\t 16\t 4\t -\t \n",
      "\n",
      "4\t 8\t 2\t 4\t \n",
      "\n"
     ]
    }
   ],
   "source": [
    "i = random.randint(0,len(df))\n",
    "\n",
    "gameEnv.display(eval(df['status'].tolist()[i]))\n",
    "print (df['action'].tolist()[i])\n",
    "gameEnv.display(eval(df['status-'].tolist()[i]))"
   ]
  },
  {
   "cell_type": "code",
   "execution_count": null,
   "metadata": {},
   "outputs": [],
   "source": []
  }
 ],
 "metadata": {
  "kernelspec": {
   "display_name": "root",
   "language": "python",
   "name": "python3"
  },
  "language_info": {
   "codemirror_mode": {
    "name": "ipython",
    "version": 3
   },
   "file_extension": ".py",
   "mimetype": "text/x-python",
   "name": "python",
   "nbconvert_exporter": "python",
   "pygments_lexer": "ipython3",
   "version": "3.6.2"
  }
 },
 "nbformat": 4,
 "nbformat_minor": 2
}
